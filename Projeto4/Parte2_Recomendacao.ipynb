{
 "cells": [
  {
   "cell_type": "markdown",
   "metadata": {},
   "source": [
    "# Sistema de Recomendação"
   ]
  },
  {
   "cell_type": "code",
   "execution_count": 1,
   "metadata": {},
   "outputs": [],
   "source": [
    "import numpy as np\n",
    "import pandas as pd\n",
    "from scipy.io import loadmat\n",
    "%run functions_recomendacao.py"
   ]
  },
  {
   "cell_type": "markdown",
   "metadata": {},
   "source": [
    "## Importação dos dados e Treinamento"
   ]
  },
  {
   "cell_type": "code",
   "execution_count": 2,
   "metadata": {},
   "outputs": [],
   "source": [
    "dados = loadmat(\"dado3.mat\")\n",
    "Y = dados[\"Y\"]\n",
    "R = dados[\"R\"]\n",
    "filmes = open(\"dado4.txt\",\"r\").read().split(\"\\n\")[:-1]"
   ]
  },
  {
   "cell_type": "code",
   "execution_count": 3,
   "metadata": {},
   "outputs": [
    {
     "name": "stdout",
     "output_type": "stream",
     "text": [
      "Todos os filmes receberam pelo menos uma nota.\n",
      "Todos os usuários deram pelo menos uma nota.\n"
     ]
    }
   ],
   "source": [
    "sem_nota = [[], []]\n",
    "for i in range(R.shape[0]):\n",
    "    if sum(R[i,:]) == 0:\n",
    "        sem_nota[0].append(i)\n",
    "\n",
    "for j in range(R.shape[1]):\n",
    "    if sum(R[:,j]) == 0:\n",
    "        sem_nota[1].append(j)\n",
    "\n",
    "if len(sem_nota[0]) == 0:\n",
    "    print(\"Todos os filmes receberam pelo menos uma nota.\")\n",
    "if len(sem_nota[1]) == 0:\n",
    "    print(\"Todos os usuários deram pelo menos uma nota.\")"
   ]
  },
  {
   "cell_type": "code",
   "execution_count": 4,
   "metadata": {},
   "outputs": [],
   "source": [
    "Y_norm, Y_media = normalizacao(Y, R)"
   ]
  },
  {
   "cell_type": "code",
   "execution_count": 5,
   "metadata": {},
   "outputs": [],
   "source": [
    "n_pars = 100\n",
    "n_iter = 10000\n",
    "X, theta, res = treinamento(Y_norm, R, n_pars, n_iter)"
   ]
  },
  {
   "cell_type": "code",
   "execution_count": 6,
   "metadata": {},
   "outputs": [
    {
     "data": {
      "text/plain": [
       "     fun: 2.553904153176448e-07\n",
       "     jac: array([-2.54426355e-08, -2.82771542e-07,  1.69145084e-07, ...,\n",
       "       -1.25731531e-07,  1.05045907e-07, -4.63907142e-07])\n",
       " message: 'Optimization terminated successfully.'\n",
       "    nfev: 13608\n",
       "     nit: 8943\n",
       "    njev: 13608\n",
       "  status: 0\n",
       " success: True\n",
       "       x: array([ 0.1782795 , -0.01503959, -0.49062717, ...,  0.21743605,\n",
       "       -0.07565959,  0.28781975])"
      ]
     },
     "execution_count": 6,
     "metadata": {},
     "output_type": "execute_result"
    }
   ],
   "source": [
    "res"
   ]
  },
  {
   "cell_type": "markdown",
   "metadata": {},
   "source": [
    "## Previsão das notas"
   ]
  },
  {
   "cell_type": "code",
   "execution_count": 9,
   "metadata": {},
   "outputs": [
    {
     "name": "stdout",
     "output_type": "stream",
     "text": [
      "A maior diferença entre uma nota dada pelo usuário e uma nota atribuída pelo algoritmo é: 0.00.\n",
      "A função de custo (desvio quadrático médio) ótima encontrada pela otimização é: 0.00.\n"
     ]
    }
   ],
   "source": [
    "notas_prev = (X @ theta.T) \n",
    "for i in range(notas_prev.shape[0]):\n",
    "    notas_prev[i, :] = notas_prev[i, :] + Y_media[i]\n",
    "    \n",
    "print(\"A maior diferença entre uma nota dada pelo usuário e uma nota atribuída pelo algoritmo é: {:.2f}.\".format(np.max(np.abs(Y*R - notas_prev*R))))\n",
    "print(\"A função de custo (desvio quadrático médio) ótima encontrada pela otimização é: {:.2f}.\".format(res['fun']))"
   ]
  },
  {
   "cell_type": "code",
   "execution_count": 10,
   "metadata": {},
   "outputs": [],
   "source": [
    "notas = Y + notas_prev * (1 - R)\n",
    "media_filmes = np.mean(notas, axis=1)"
   ]
  },
  {
   "cell_type": "code",
   "execution_count": 13,
   "metadata": {},
   "outputs": [
    {
     "name": "stdout",
     "output_type": "stream",
     "text": [
      "OS 10 filmes de maior nota média são:\n"
     ]
    },
    {
     "data": {
      "text/html": [
       "<div>\n",
       "<style scoped>\n",
       "    .dataframe tbody tr th:only-of-type {\n",
       "        vertical-align: middle;\n",
       "    }\n",
       "\n",
       "    .dataframe tbody tr th {\n",
       "        vertical-align: top;\n",
       "    }\n",
       "\n",
       "    .dataframe thead th {\n",
       "        text-align: right;\n",
       "    }\n",
       "</style>\n",
       "<table border=\"1\" class=\"dataframe\">\n",
       "  <thead>\n",
       "    <tr style=\"text-align: right;\">\n",
       "      <th></th>\n",
       "      <th>Filme</th>\n",
       "      <th>Nota média</th>\n",
       "    </tr>\n",
       "  </thead>\n",
       "  <tbody>\n",
       "    <tr>\n",
       "      <td>0</td>\n",
       "      <td>814 Great Day in Harlem, A (1994)</td>\n",
       "      <td>10.153611</td>\n",
       "    </tr>\n",
       "    <tr>\n",
       "      <td>1</td>\n",
       "      <td>1201 Marlene Dietrich: Shadow and Light (1996)</td>\n",
       "      <td>9.519190</td>\n",
       "    </tr>\n",
       "    <tr>\n",
       "      <td>2</td>\n",
       "      <td>1536 Aiqing wansui (1994)</td>\n",
       "      <td>9.498675</td>\n",
       "    </tr>\n",
       "    <tr>\n",
       "      <td>3</td>\n",
       "      <td>1189 Prefontaine (1997)</td>\n",
       "      <td>9.329807</td>\n",
       "    </tr>\n",
       "    <tr>\n",
       "      <td>4</td>\n",
       "      <td>1398 Anna (1996)</td>\n",
       "      <td>9.236036</td>\n",
       "    </tr>\n",
       "    <tr>\n",
       "      <td>5</td>\n",
       "      <td>1653 Entertaining Angels: The Dorothy Day Stor...</td>\n",
       "      <td>9.168946</td>\n",
       "    </tr>\n",
       "    <tr>\n",
       "      <td>6</td>\n",
       "      <td>1293 Star Kid (1997)</td>\n",
       "      <td>9.167452</td>\n",
       "    </tr>\n",
       "    <tr>\n",
       "      <td>7</td>\n",
       "      <td>1467 Saint of Fort Washington, The (1993)</td>\n",
       "      <td>9.118527</td>\n",
       "    </tr>\n",
       "    <tr>\n",
       "      <td>8</td>\n",
       "      <td>1594 Everest (1998)</td>\n",
       "      <td>9.102414</td>\n",
       "    </tr>\n",
       "    <tr>\n",
       "      <td>9</td>\n",
       "      <td>1122 They Made Me a Criminal (1939)</td>\n",
       "      <td>9.090271</td>\n",
       "    </tr>\n",
       "  </tbody>\n",
       "</table>\n",
       "</div>"
      ],
      "text/plain": [
       "                                               Filme  Nota média\n",
       "0                  814 Great Day in Harlem, A (1994)   10.153611\n",
       "1    1201 Marlene Dietrich: Shadow and Light (1996)     9.519190\n",
       "2                          1536 Aiqing wansui (1994)    9.498675\n",
       "3                            1189 Prefontaine (1997)    9.329807\n",
       "4                                   1398 Anna (1996)    9.236036\n",
       "5  1653 Entertaining Angels: The Dorothy Day Stor...    9.168946\n",
       "6                               1293 Star Kid (1997)    9.167452\n",
       "7          1467 Saint of Fort Washington, The (1993)    9.118527\n",
       "8                                1594 Everest (1998)    9.102414\n",
       "9                1122 They Made Me a Criminal (1939)    9.090271"
      ]
     },
     "execution_count": 13,
     "metadata": {},
     "output_type": "execute_result"
    }
   ],
   "source": [
    "df = pd.DataFrame(filmes, columns=['Filme'])\n",
    "df['Nota média'] = media_filmes\n",
    "df.sort_values(by=['Nota média'], ascending=False, inplace=True)\n",
    "df.reset_index(drop=True,inplace=True)\n",
    "print(\"OS 10 filmes de maior nota média são:\")\n",
    "df.head(10)\n"
   ]
  }
 ],
 "metadata": {
  "kernelspec": {
   "display_name": "Python 3",
   "language": "python",
   "name": "python3"
  },
  "language_info": {
   "codemirror_mode": {
    "name": "ipython",
    "version": 3
   },
   "file_extension": ".py",
   "mimetype": "text/x-python",
   "name": "python",
   "nbconvert_exporter": "python",
   "pygments_lexer": "ipython3",
   "version": "3.7.4"
  }
 },
 "nbformat": 4,
 "nbformat_minor": 4
}
