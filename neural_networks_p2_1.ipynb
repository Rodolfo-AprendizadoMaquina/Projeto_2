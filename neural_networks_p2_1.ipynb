{
 "cells": [
  {
   "cell_type": "code",
   "execution_count": 1,
   "metadata": {},
   "outputs": [],
   "source": [
    "import pandas as pd\n",
    "import numpy as np\n",
    "import matplotlib.pyplot as plt\n",
    "from scipy.io import loadmat"
   ]
  },
  {
   "cell_type": "markdown",
   "metadata": {},
   "source": [
    "### Importação e Processamento dos Dados"
   ]
  },
  {
   "cell_type": "code",
   "execution_count": 2,
   "metadata": {},
   "outputs": [],
   "source": [
    "def zero_col(df):\n",
    "    zero_cols = []\n",
    "    for i in range(df.shape[1]):\n",
    "        test = np.zeros([df.shape[0]])\n",
    "        if np.array_equal(df[i], test):\n",
    "            zero_cols.append(i)\n",
    "            df.pop(i)\n",
    "    return np.asmatrix(df), zero_cols"
   ]
  },
  {
   "cell_type": "code",
   "execution_count": 3,
   "metadata": {},
   "outputs": [],
   "source": [
    "images = pd.read_csv(\"imageMNIST.csv\", header=None, decimal=',')\n",
    "labels = np.array(pd.read_csv(\"labelMNIST.csv\", header=None))\n",
    "X, zero_cols = zero_col(images)\n",
    "y = np.asarray(labels)"
   ]
  },
  {
   "cell_type": "code",
   "execution_count": 4,
   "metadata": {},
   "outputs": [],
   "source": [
    "def sigmoid(z):\n",
    "    return 1/(1+np.exp(-z))"
   ]
  },
  {
   "cell_type": "code",
   "execution_count": 5,
   "metadata": {},
   "outputs": [],
   "source": [
    "def sigmoidGradient(z):\n",
    "    sigmoid = 1/(1+np.exp(-z))\n",
    "    return sigmoid*(1-sigmoid)"
   ]
  },
  {
   "cell_type": "code",
   "execution_count": 6,
   "metadata": {},
   "outputs": [],
   "source": [
    "def createTheta(theta, input_layer_size, hidden_layer_size, num_labels):\n",
    "    # Cria lista com os vetores theta de cada camada escondida\n",
    "    n_layers = hidden_layers_size.shape[0]\n",
    "    thetan = []\n",
    "    aux_begin = ((input_layer_size+1)*hidden_layers_size[0])\n",
    "    thetan.append(theta[:aux_begin].reshape(hidden_layers_size[0],input_layer_size+1))\n",
    "    if(n_layers > 1):\n",
    "        for i in range(hidden_layers_size.shape[0]-1):\n",
    "            aux_end = aux_begin + (hidden_layers_size[i]+1)*hidden_layers_size[i+1]\n",
    "            thetan.append(theta[aux_begin:aux_end].reshape(hidden_layers_size[i+1],hidden_layers_size[i]+1))\n",
    "            aux_begin = aux_end\n",
    "    else:\n",
    "        aux_end = aux_begin\n",
    "    thetan.append(theta[aux_end:].reshape(num_labels,hidden_layers_size[-1]+1))\n",
    "    return thetan"
   ]
  },
  {
   "cell_type": "code",
   "execution_count": 12,
   "metadata": {},
   "outputs": [],
   "source": [
    "def computeCost(X,y,theta,input_layer_size,hidden_layer_size,num_labels, Lambda, regularizada=True):\n",
    "    \n",
    "    thetan = theta\n",
    "    \n",
    "    m = X.shape[0]\n",
    "    J = 0\n",
    "    X = np.hstack((np.ones((m,1)),X))\n",
    "\n",
    "    y10 = np.zeros((m,num_labels))\n",
    "    for i in range(1,num_labels+1):\n",
    "        y10[:,i-1][:,np.newaxis] = np.where(y==i,1,0)\n",
    "\n",
    "    an = []\n",
    "    an.append(X)\n",
    "    for i in range(len(thetan)):\n",
    "        an.append(sigmoid(an[i] @ thetan[i].T))\n",
    "        if i != len(thetan) - 1:\n",
    "            an[-1] = np.hstack((np.ones((m,1)),an[-1]))\n",
    "\n",
    "\n",
    "    for j in range(num_labels):\n",
    "        J = J + sum(-y10[:,j]*np.log(an[-1][:,j])-(1-y10[:,j])*np.log(1-an[-1][:,j]))\n",
    "\n",
    "    cost = 1/m*J\n",
    "#     aux = 0\n",
    "#     for i in range(len(thetan)):\n",
    "#         aux2 = thetan[i][:,1:].reshape([1, thetan[i][:,1:].shape[0] * thetan[i][:,1:].shape[1]])\n",
    "#         try:\n",
    "#             aux = aux + np.sum(aux2**2)\n",
    "    reg_J = cost #+ Lambda/(2*m)*(aux)\n",
    "\n",
    "    grad = []\n",
    "    grad_reg = []\n",
    "    for i in range(len(thetan)):\n",
    "        grad.append(np.zeros((thetan[i].shape)))           \n",
    "\n",
    "    for i in range(m):\n",
    "        xi = X[i,:]\n",
    "        ani = []\n",
    "        dn = []\n",
    "        for j in range(len(an)):\n",
    "            ani.append(an[j][i,:])   \n",
    "\n",
    "        dn.append(np.array(ani[-1] - y10[i,:]))\n",
    "        for j in range(len(thetan)-1):\n",
    "            z = np.array(np.hstack((np.ones([1,1]),(ani[len(thetan)-2-j] @ thetan[len(thetan)-2-j].T))))\n",
    "            aux = np.array(dn[0] @ thetan[len(thetan)-1-j]) * sigmoidGradient(z)\n",
    "            dn.insert(0,aux[:,1:])\n",
    "\n",
    "    #     grad[0] = grad[0] + dn[0][1:][:,np.newaxis] @ xi[:,np.newaxis].T\n",
    "        for j in range(len(thetan)):\n",
    "            grad[j] = grad[j] + (ani[j].T @ dn[j]).T\n",
    "\n",
    "    for j in range(len(grad)):                        \n",
    "        grad[j] = 1/m*grad[j]\n",
    "    for j in range(len(grad)):\n",
    "        grad_reg.append(grad[j] + (Lambda/m)*np.hstack((np.zeros((thetan[j].shape[0],1)),thetan[j][:,1:])))\n",
    "    \n",
    "    if regularizada:\n",
    "        return reg_J, grad_reg\n",
    "    else:\n",
    "        return cost, grad"
   ]
  },
  {
   "cell_type": "code",
   "execution_count": 8,
   "metadata": {},
   "outputs": [],
   "source": [
    "def randInitializeWeights(L_in,L_out):\n",
    "    epi = (6**1/2)/(L_in+L_out)**1/2\n",
    "    W = np.random.rand(L_out,L_in+1)*(2*epi)-epi\n",
    "    return W"
   ]
  },
  {
   "cell_type": "code",
   "execution_count": 14,
   "metadata": {},
   "outputs": [],
   "source": [
    "def gradientDescent(X,y,theta,alpha,nbr_iter,Lambda,input_layer_size,hidden_layer_size,num_labels):\n",
    "\n",
    "    thetan = createTheta(theta,input_layer_size,hidden_layer_size,num_labels)\n",
    "    \n",
    "    m = len(y)\n",
    "    J_history = []\n",
    "    theta_n = []\n",
    "    for i in range(nbr_iter):\n",
    "#         for j in range(len(thetan)-1):\n",
    "#             theta_n = np.append(thetan[0].flatten(),thetan[j+1].flatten())\n",
    "        cost, grad = computeCost(X,y,thetan,input_layer_size,hidden_layer_size,num_labels,Lambda)\n",
    "        \n",
    "        for j in range(len(thetan)): \n",
    "            thetan[j] = thetan[j] - (alpha*grad[j])\n",
    "        J_history.append(cost)\n",
    "        \n",
    "    nn_paramsFinal = thetan\n",
    "    return nn_paramsFinal,J_history"
   ]
  },
  {
   "cell_type": "code",
   "execution_count": 18,
   "metadata": {},
   "outputs": [],
   "source": [
    "def prediction(X,thetan):\n",
    "    m = X.shape[0]\n",
    "    X = np.hstack((np.ones((m,1)),X))\n",
    "    \n",
    "    an = [X]\n",
    "    for i in range(len(thetan)):\n",
    "        an.append(sigmoid(an[i] @ thetan[i].T))\n",
    "        if i != len(thetan) - 1:\n",
    "            an[-1] = np.hstack((np.ones((m,1)),an[-1]))  \n",
    "\n",
    "    return np.argmax(an[-1],axis=1)+1"
   ]
  },
  {
   "cell_type": "code",
   "execution_count": 33,
   "metadata": {},
   "outputs": [],
   "source": [
    "input_layer_size = X.shape[1]\n",
    "hidden_layers_size = np.array([25])#Array com as camadas escondidas e suas respectivas quantidades de neurônios\n",
    "num_labels = 10\n",
    "n_layers = hidden_layers_size.shape[0]\n",
    "\n",
    "initial_theta1 = randInitializeWeights(input_layer_size,hidden_layers_size[0])\n",
    "if(n_layers > 1):\n",
    "    for i in range(hidden_layers_size.shape[0]-1):\n",
    "        aux_theta = randInitializeWeights(hidden_layers_size[i],hidden_layers_size[i+1])\n",
    "        initial_theta1 = np.append(initial_theta1.flatten(),aux_theta.flatten())\n",
    "\n",
    "initial_theta2 = randInitializeWeights(hidden_layers_size[-1],num_labels)\n",
    "initial_theta = np.append(initial_theta1.flatten(),initial_theta2.flatten())\n",
    "\n",
    "\n",
    "theta,J_history = gradientDescent(X,y,initial_theta,0.8,800,1,input_layer_size,hidden_layers_size,num_labels)\n"
   ]
  },
  {
   "cell_type": "code",
   "execution_count": 35,
   "metadata": {},
   "outputs": [
    {
     "name": "stdout",
     "output_type": "stream",
     "text": [
      "Training Set Accuracy: 94.04 %\n"
     ]
    }
   ],
   "source": [
    "pred = prediction(X,theta)\n",
    "print(\"Training Set Accuracy:\",np.sum(pred == y)/50,\"%\")"
   ]
  }
 ],
 "metadata": {
  "kernelspec": {
   "display_name": "Python 3",
   "language": "python",
   "name": "python3"
  },
  "language_info": {
   "codemirror_mode": {
    "name": "ipython",
    "version": 3
   },
   "file_extension": ".py",
   "mimetype": "text/x-python",
   "name": "python",
   "nbconvert_exporter": "python",
   "pygments_lexer": "ipython3",
   "version": "3.7.4"
  }
 },
 "nbformat": 4,
 "nbformat_minor": 4
}
