{
 "cells": [
  {
   "cell_type": "code",
   "execution_count": 66,
   "metadata": {},
   "outputs": [],
   "source": [
    "import pandas as pd\n",
    "import numpy as np\n",
    "import matplotlib.pyplot as plt\n",
    "from scipy.io import loadmat\n",
    "%run functions.py"
   ]
  },
  {
   "cell_type": "markdown",
   "metadata": {},
   "source": [
    "### Importação dos Dados"
   ]
  },
  {
   "cell_type": "code",
   "execution_count": 43,
   "metadata": {},
   "outputs": [],
   "source": [
    "images = pd.read_csv(\"imageMNIST.csv\", header=None, decimal=',')\n",
    "labels = np.array(pd.read_csv(\"labelMNIST.csv\", header=None))\n",
    "X, zero_cols = zero_col(images)\n",
    "y = np.asarray(labels)"
   ]
  },
  {
   "cell_type": "code",
   "execution_count": 63,
   "metadata": {},
   "outputs": [],
   "source": [
    "input_layer_size = X.shape[1]\n",
    "hidden_layer_size = np.array([25, 25])#Array com as camadas escondidas e suas respectivas quantidades de neurônios\n",
    "num_labels = 10\n",
    "n_layers = hidden_layer_size.shape[0]\n",
    "Lambda = 0.01\n",
    "\n",
    "theta = []\n",
    "\n",
    "theta.append(randInitializeWeights(input_layer_size,hidden_layer_size[0]))\n",
    "if(n_layers > 1):\n",
    "    for i in range(hidden_layer_size.shape[0]-1):\n",
    "        theta.append(randInitializeWeights(hidden_layer_size[i],hidden_layer_size[i+1]))\n",
    "        \n",
    "theta.append(randInitializeWeights(hidden_layer_size[-1],num_labels))\n",
    "\n",
    "\n",
    "theta,J_history = gradientDescent(X,y,theta,0.8,100, Lambda,input_layer_size,hidden_layer_size,num_labels)"
   ]
  },
  {
   "cell_type": "code",
   "execution_count": 64,
   "metadata": {},
   "outputs": [
    {
     "name": "stdout",
     "output_type": "stream",
     "text": [
      "Training Set Accuracy: 22.68 %\n"
     ]
    }
   ],
   "source": [
    "pred = prediction(X,theta)\n",
    "print(\"Training Set Accuracy:\",np.sum(pred == y)/50,\"%\")"
   ]
  },
  {
   "cell_type": "code",
   "execution_count": 65,
   "metadata": {},
   "outputs": [
    {
     "data": {
      "text/plain": [
       "[<matplotlib.lines.Line2D at 0x296b59c1e88>]"
      ]
     },
     "execution_count": 65,
     "metadata": {},
     "output_type": "execute_result"
    },
    {
     "data": {
      "image/png": "[encoded data removed]",
      "text/plain": [
       "<Figure size 432x288 with 1 Axes>"
      ]
     },
     "metadata": {
      "needs_background": "light"
     },
     "output_type": "display_data"
    }
   ],
   "source": [
    "plt.plot(J_history)"
   ]
  }
 ],
 "metadata": {
  "kernelspec": {
   "display_name": "Python 3",
   "language": "python",
   "name": "python3"
  },
  "language_info": {
   "codemirror_mode": {
    "name": "ipython",
    "version": 3
   },
   "file_extension": ".py",
   "mimetype": "text/x-python",
   "name": "python",
   "nbconvert_exporter": "python",
   "pygments_lexer": "ipython3",
   "version": "3.7.4"
  }
 },
 "nbformat": 4,
 "nbformat_minor": 4
}
